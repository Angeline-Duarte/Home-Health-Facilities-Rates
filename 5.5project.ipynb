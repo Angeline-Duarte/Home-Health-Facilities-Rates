{
 "cells": [
  {
   "cell_type": "markdown",
   "id": "0b11649b-a287-4964-8f82-c5424294510b",
   "metadata": {},
   "source": [
    "<4/27/2024> - <angort8476>"
   ]
  },
  {
   "cell_type": "code",
   "execution_count": 1,
   "id": "5e5eb692-df9e-4e17-9208-f02848b86dd2",
   "metadata": {},
   "outputs": [
    {
     "name": "stdout",
     "output_type": "stream",
     "text": [
      "       Government Job  Never Worked  Private  Self-employed\n",
      "0                   1             0        0              0\n",
      "1                   1             0        0              0\n",
      "2                   1             0        0              0\n",
      "3                   1             0        0              0\n",
      "4                   1             0        0              0\n",
      "...               ...           ...      ...            ...\n",
      "14995               0             0        0              1\n",
      "14996               0             0        0              1\n",
      "14997               0             0        0              1\n",
      "14998               0             0        0              1\n",
      "14999               0             0        0              1\n",
      "\n",
      "[15000 rows x 4 columns]\n",
      "       Female  Male\n",
      "0           1     0\n",
      "1           1     0\n",
      "2           0     1\n",
      "3           1     0\n",
      "4           0     1\n",
      "...       ...   ...\n",
      "14995       0     1\n",
      "14996       0     1\n",
      "14997       0     1\n",
      "14998       1     0\n",
      "14999       0     1\n",
      "\n",
      "[15000 rows x 2 columns]\n",
      "       No Stroke  Stroke\n",
      "0              0       1\n",
      "1              0       1\n",
      "2              0       1\n",
      "3              0       1\n",
      "4              0       1\n",
      "...          ...     ...\n",
      "14995          1       0\n",
      "14996          1       0\n",
      "14997          1       0\n",
      "14998          1       0\n",
      "14999          1       0\n",
      "\n",
      "[15000 rows x 2 columns]\n"
     ]
    }
   ],
   "source": [
    "import pandas as pd\n",
    "file_path ='C:\\\\Users\\\\student\\\\Documents\\\\week4\\\\Stroke_Prediction_Dataset.xlsx'\n",
    "df = pd.read_excel(file_path)\n",
    "\n",
    "df_work = pd.get_dummies(df['Work Type'], dtype=int)\n",
    "df_gender = pd.get_dummies(df['Gender'], dtype=int)\n",
    "df_diagnosis = pd.get_dummies(df['Diagnosis'], dtype=int)\n",
    "new_diagnosis = df['Diagnosis']\n",
    "print(df_work)\n",
    "print(df_gender)\n",
    "print(df_diagnosis)"
   ]
  },
  {
   "cell_type": "code",
   "execution_count": 2,
   "id": "bf6f3b51-090c-4faf-b1f6-035cb8d47a9e",
   "metadata": {},
   "outputs": [
    {
     "data": {
      "text/markdown": [
       "### angort8476 - 2024-04-27"
      ],
      "text/plain": [
       "<IPython.core.display.Markdown object>"
      ]
     },
     "metadata": {},
     "output_type": "display_data"
    },
    {
     "data": {
      "text/markdown": [
       "#### Features"
      ],
      "text/plain": [
       "<IPython.core.display.Markdown object>"
      ]
     },
     "metadata": {},
     "output_type": "display_data"
    },
    {
     "data": {
      "text/html": [
       "<div>\n",
       "<style scoped>\n",
       "    .dataframe tbody tr th:only-of-type {\n",
       "        vertical-align: middle;\n",
       "    }\n",
       "\n",
       "    .dataframe tbody tr th {\n",
       "        vertical-align: top;\n",
       "    }\n",
       "\n",
       "    .dataframe thead th {\n",
       "        text-align: right;\n",
       "    }\n",
       "</style>\n",
       "<table border=\"1\" class=\"dataframe\">\n",
       "  <thead>\n",
       "    <tr style=\"text-align: right;\">\n",
       "      <th></th>\n",
       "      <th>Age</th>\n",
       "      <th>Hypertension</th>\n",
       "      <th>Heart Disease</th>\n",
       "      <th>Average Glucose Level</th>\n",
       "      <th>Body Mass Index (BMI)</th>\n",
       "      <th>Stroke History</th>\n",
       "      <th>Stress Levels</th>\n",
       "      <th>Systolic Blood Pressure</th>\n",
       "      <th>Diastolic Blood Pressure</th>\n",
       "      <th>HDL Cholesterol</th>\n",
       "      <th>...</th>\n",
       "      <th>Dizziness</th>\n",
       "      <th>Seizures</th>\n",
       "      <th>Weakness</th>\n",
       "      <th>Severe Fatigue</th>\n",
       "      <th>Headache</th>\n",
       "      <th>Confusion</th>\n",
       "      <th>Difficulty Speaking</th>\n",
       "      <th>Numbness</th>\n",
       "      <th>Loss of Balance</th>\n",
       "      <th>Unnamed: 34</th>\n",
       "    </tr>\n",
       "  </thead>\n",
       "  <tbody>\n",
       "    <tr>\n",
       "      <th>0</th>\n",
       "      <td>61</td>\n",
       "      <td>0</td>\n",
       "      <td>1</td>\n",
       "      <td>194.73</td>\n",
       "      <td>26.44</td>\n",
       "      <td>1</td>\n",
       "      <td>5.85</td>\n",
       "      <td>179</td>\n",
       "      <td>72</td>\n",
       "      <td>66</td>\n",
       "      <td>...</td>\n",
       "      <td>0</td>\n",
       "      <td>0</td>\n",
       "      <td>0</td>\n",
       "      <td>0</td>\n",
       "      <td>0</td>\n",
       "      <td>0</td>\n",
       "      <td>0</td>\n",
       "      <td>0</td>\n",
       "      <td>1</td>\n",
       "      <td>NaN</td>\n",
       "    </tr>\n",
       "    <tr>\n",
       "      <th>1</th>\n",
       "      <td>30</td>\n",
       "      <td>0</td>\n",
       "      <td>1</td>\n",
       "      <td>163.15</td>\n",
       "      <td>19.36</td>\n",
       "      <td>0</td>\n",
       "      <td>9.19</td>\n",
       "      <td>114</td>\n",
       "      <td>67</td>\n",
       "      <td>80</td>\n",
       "      <td>...</td>\n",
       "      <td>0</td>\n",
       "      <td>0</td>\n",
       "      <td>0</td>\n",
       "      <td>0</td>\n",
       "      <td>0</td>\n",
       "      <td>0</td>\n",
       "      <td>0</td>\n",
       "      <td>1</td>\n",
       "      <td>1</td>\n",
       "      <td>7468.0</td>\n",
       "    </tr>\n",
       "    <tr>\n",
       "      <th>2</th>\n",
       "      <td>86</td>\n",
       "      <td>0</td>\n",
       "      <td>1</td>\n",
       "      <td>130.71</td>\n",
       "      <td>31.83</td>\n",
       "      <td>0</td>\n",
       "      <td>3.77</td>\n",
       "      <td>151</td>\n",
       "      <td>97</td>\n",
       "      <td>52</td>\n",
       "      <td>...</td>\n",
       "      <td>0</td>\n",
       "      <td>0</td>\n",
       "      <td>0</td>\n",
       "      <td>0</td>\n",
       "      <td>0</td>\n",
       "      <td>1</td>\n",
       "      <td>1</td>\n",
       "      <td>0</td>\n",
       "      <td>0</td>\n",
       "      <td>NaN</td>\n",
       "    </tr>\n",
       "    <tr>\n",
       "      <th>3</th>\n",
       "      <td>40</td>\n",
       "      <td>0</td>\n",
       "      <td>1</td>\n",
       "      <td>199.01</td>\n",
       "      <td>31.22</td>\n",
       "      <td>1</td>\n",
       "      <td>0.82</td>\n",
       "      <td>120</td>\n",
       "      <td>60</td>\n",
       "      <td>58</td>\n",
       "      <td>...</td>\n",
       "      <td>0</td>\n",
       "      <td>1</td>\n",
       "      <td>0</td>\n",
       "      <td>0</td>\n",
       "      <td>0</td>\n",
       "      <td>1</td>\n",
       "      <td>0</td>\n",
       "      <td>0</td>\n",
       "      <td>0</td>\n",
       "      <td>NaN</td>\n",
       "    </tr>\n",
       "    <tr>\n",
       "      <th>4</th>\n",
       "      <td>57</td>\n",
       "      <td>0</td>\n",
       "      <td>1</td>\n",
       "      <td>76.30</td>\n",
       "      <td>29.44</td>\n",
       "      <td>0</td>\n",
       "      <td>2.85</td>\n",
       "      <td>101</td>\n",
       "      <td>69</td>\n",
       "      <td>33</td>\n",
       "      <td>...</td>\n",
       "      <td>0</td>\n",
       "      <td>0</td>\n",
       "      <td>0</td>\n",
       "      <td>1</td>\n",
       "      <td>0</td>\n",
       "      <td>1</td>\n",
       "      <td>0</td>\n",
       "      <td>0</td>\n",
       "      <td>1</td>\n",
       "      <td>NaN</td>\n",
       "    </tr>\n",
       "  </tbody>\n",
       "</table>\n",
       "<p>5 rows × 23 columns</p>\n",
       "</div>"
      ],
      "text/plain": [
       "   Age  Hypertension  Heart Disease  Average Glucose Level  \\\n",
       "0   61             0              1                 194.73   \n",
       "1   30             0              1                 163.15   \n",
       "2   86             0              1                 130.71   \n",
       "3   40             0              1                 199.01   \n",
       "4   57             0              1                  76.30   \n",
       "\n",
       "   Body Mass Index (BMI)  Stroke History  Stress Levels  \\\n",
       "0                  26.44               1           5.85   \n",
       "1                  19.36               0           9.19   \n",
       "2                  31.83               0           3.77   \n",
       "3                  31.22               1           0.82   \n",
       "4                  29.44               0           2.85   \n",
       "\n",
       "   Systolic Blood Pressure  Diastolic Blood Pressure  HDL Cholesterol  ...  \\\n",
       "0                      179                        72               66  ...   \n",
       "1                      114                        67               80  ...   \n",
       "2                      151                        97               52  ...   \n",
       "3                      120                        60               58  ...   \n",
       "4                      101                        69               33  ...   \n",
       "\n",
       "   Dizziness  Seizures  Weakness  Severe Fatigue  Headache  Confusion  \\\n",
       "0          0         0         0               0         0          0   \n",
       "1          0         0         0               0         0          0   \n",
       "2          0         0         0               0         0          1   \n",
       "3          0         1         0               0         0          1   \n",
       "4          0         0         0               1         0          1   \n",
       "\n",
       "   Difficulty Speaking  Numbness  Loss of Balance  Unnamed: 34  \n",
       "0                    0         0                1          NaN  \n",
       "1                    0         1                1       7468.0  \n",
       "2                    1         0                0          NaN  \n",
       "3                    0         0                0          NaN  \n",
       "4                    0         0                1          NaN  \n",
       "\n",
       "[5 rows x 23 columns]"
      ]
     },
     "metadata": {},
     "output_type": "display_data"
    },
    {
     "data": {
      "text/plain": [
       "0    Stroke\n",
       "1    Stroke\n",
       "2    Stroke\n",
       "3    Stroke\n",
       "4    Stroke\n",
       "Name: Diagnosis, dtype: object"
      ]
     },
     "metadata": {},
     "output_type": "display_data"
    }
   ],
   "source": [
    "# Import necessary libraries\n",
    "import pandas as pd\n",
    "from sklearn.model_selection import train_test_split, GridSearchCV\n",
    "from sklearn.linear_model import LogisticRegression\n",
    "from sklearn.ensemble import RandomForestClassifier\n",
    "from sklearn.svm import SVC\n",
    "from sklearn.metrics import accuracy_score, confusion_matrix, f1_score\n",
    "import matplotlib.pyplot as plt\n",
    "from datetime import datetime\n",
    "from IPython.display import display, Markdown\n",
    "import seaborn as sns\n",
    "import numpy as np\n",
    "todays_date = datetime.now().strftime(\"%Y-%m-%d\")\n",
    "student_id = \"angort8476\"\n",
    "# Step 1: Data Preprocessing\n",
    "# ---------------------------\n",
    "# Specify which columns will be used as features and which one will be the target.\n",
    "X_class = df.drop(['Patient ID', 'Patient Name', 'Gender', 'Marital Status', 'Work Type', 'Residence Type', 'Smoking Status',\n",
    "                  'Alcohol Intake', 'Physical Activity', 'Family History of Stroke', 'Dietary Habits', 'Diagnosis'], axis=1)\n",
    "y_class = new_diagnosis\n",
    "# Split the dataset into 80% training and 20% testing\n",
    "X_train_class, X_test_class, y_train_class, y_test_class = train_test_split(X_class, y_class, test_size=0.2, random_state=42)\n",
    "X_train_class = X_train_class.fillna(1)\n",
    "y_train_class = y_train_class.fillna(1)\n",
    "X_test_class = X_test_class.fillna(1)\n",
    "y_test_class = y_test_class.fillna(1)\n",
    "# Show the features and target\n",
    "display(Markdown(f\"### {student_id} - {todays_date}\"))\n",
    "display(Markdown(\"#### Features\"))\n",
    "display(X_class.head())\n",
    "display(y_class.head())"
   ]
  },
  {
   "cell_type": "code",
   "execution_count": 3,
   "id": "0ac28b79-d6f6-4937-879f-f7ec4b72435a",
   "metadata": {},
   "outputs": [
    {
     "data": {
      "text/markdown": [
       "### angort8476 - 2024-04-27"
      ],
      "text/plain": [
       "<IPython.core.display.Markdown object>"
      ]
     },
     "metadata": {},
     "output_type": "display_data"
    },
    {
     "data": {
      "text/markdown": [
       "Training Accuracy for Logistic Regression: 0.52"
      ],
      "text/plain": [
       "<IPython.core.display.Markdown object>"
      ]
     },
     "metadata": {},
     "output_type": "display_data"
    },
    {
     "data": {
      "text/markdown": [
       "Training Accuracy for Random Forest: 1.00"
      ],
      "text/plain": [
       "<IPython.core.display.Markdown object>"
      ]
     },
     "metadata": {},
     "output_type": "display_data"
    },
    {
     "data": {
      "text/markdown": [
       "Training Accuracy for SVM: 0.52"
      ],
      "text/plain": [
       "<IPython.core.display.Markdown object>"
      ]
     },
     "metadata": {},
     "output_type": "display_data"
    }
   ],
   "source": [
    "# Initialize and train the models\n",
    "logistic_model = LogisticRegression(random_state=42)\n",
    "rf_classifier = RandomForestClassifier(random_state=42)\n",
    "svm_classifier = SVC(random_state=42)\n",
    "# Train the models\n",
    "logistic_model.fit(X_train_class, y_train_class)\n",
    "rf_classifier.fit(X_train_class, y_train_class)\n",
    "svm_classifier.fit(X_train_class, y_train_class)\n",
    "# Make predictions on the test set\n",
    "y_pred_logistic = logistic_model.predict(X_test_class)\n",
    "y_pred_rf = rf_classifier.predict(X_test_class)\n",
    "y_pred_svm = svm_classifier.predict(X_test_class)\n",
    "# Calculate and display training accuracy for each model\n",
    "training_accuracy_logistic = accuracy_score(y_train_class,\n",
    "logistic_model.predict(X_train_class))\n",
    "training_accuracy_rf = accuracy_score(y_train_class,\n",
    "rf_classifier.predict(X_train_class))\n",
    "training_accuracy_svm = accuracy_score(y_train_class,\n",
    "svm_classifier.predict(X_train_class))\n",
    "# Add predictions to the test set DataFrame\n",
    "X_test_class['Predicted_Logistic'] = y_pred_logistic\n",
    "X_test_class['Predicted_RF'] = y_pred_rf\n",
    "X_test_class['Predicted_SVM'] = y_pred_svm\n",
    "display(Markdown(f\"### {student_id} - {todays_date}\"))\n",
    "display(Markdown(f\"Training Accuracy for Logistic Regression: {training_accuracy_logistic:.2f}\"))\n",
    "display(Markdown(f\"Training Accuracy for Random Forest: {training_accuracy_rf:.2f}\"))\n",
    "display(Markdown(f\"Training Accuracy for SVM: {training_accuracy_svm:.2f}\"))"
   ]
  },
  {
   "cell_type": "code",
   "execution_count": 4,
   "id": "a089c2fa-8318-403d-b92a-8e589b257c14",
   "metadata": {},
   "outputs": [
    {
     "data": {
      "text/markdown": [
       "### angort8476 - 2024-04-27"
      ],
      "text/plain": [
       "<IPython.core.display.Markdown object>"
      ]
     },
     "metadata": {},
     "output_type": "display_data"
    },
    {
     "data": {
      "text/markdown": [
       "#### Confusion Matrix for Logistic Regression"
      ],
      "text/plain": [
       "<IPython.core.display.Markdown object>"
      ]
     },
     "metadata": {},
     "output_type": "display_data"
    },
    {
     "data": {
      "text/plain": [
       "array([[799, 699],\n",
       "       [835, 667]], dtype=int64)"
      ]
     },
     "metadata": {},
     "output_type": "display_data"
    },
    {
     "data": {
      "text/markdown": [
       "#### Confusion Matrix for Random Forest"
      ],
      "text/plain": [
       "<IPython.core.display.Markdown object>"
      ]
     },
     "metadata": {},
     "output_type": "display_data"
    },
    {
     "data": {
      "text/plain": [
       "array([[843, 655],\n",
       "       [798, 704]], dtype=int64)"
      ]
     },
     "metadata": {},
     "output_type": "display_data"
    },
    {
     "data": {
      "text/markdown": [
       "#### Confusion Matrix for SVM"
      ],
      "text/plain": [
       "<IPython.core.display.Markdown object>"
      ]
     },
     "metadata": {},
     "output_type": "display_data"
    },
    {
     "data": {
      "text/plain": [
       "array([[872, 626],\n",
       "       [907, 595]], dtype=int64)"
      ]
     },
     "metadata": {},
     "output_type": "display_data"
    },
    {
     "data": {
      "image/png": "[encoded data removed]",
      "text/plain": [
       "<Figure size 1200x600 with 1 Axes>"
      ]
     },
     "metadata": {},
     "output_type": "display_data"
    }
   ],
   "source": [
    "# Calculate accuracy and F1-Score\n",
    "accuracy_logistic = accuracy_score(y_test_class, y_pred_logistic)\n",
    "accuracy_rf = accuracy_score(y_test_class, y_pred_rf)\n",
    "accuracy_svm = accuracy_score(y_test_class, y_pred_svm)\n",
    "f1_logistic = f1_score(y_test_class, y_pred_logistic, average='weighted')\n",
    "f1_rf = f1_score(y_test_class, y_pred_rf, average='weighted')\n",
    "f1_svm = f1_score(y_test_class, y_pred_svm, average='weighted')\n",
    "# Create Confusion Matrices\n",
    "conf_matrix_logistic = confusion_matrix(y_test_class, y_pred_logistic)\n",
    "conf_matrix_rf = confusion_matrix(y_test_class, y_pred_rf)\n",
    "conf_matrix_svm = confusion_matrix(y_test_class, y_pred_svm)\n",
    "# Display Confusion Matrices\n",
    "display(Markdown(f\"### {student_id} - {todays_date}\"))\n",
    "display(Markdown(\"#### Confusion Matrix for Logistic Regression\"))\n",
    "display(conf_matrix_logistic)\n",
    "display(Markdown(\"#### Confusion Matrix for Random Forest\"))\n",
    "display(conf_matrix_rf)\n",
    "display(Markdown(\"#### Confusion Matrix for SVM\"))\n",
    "display(conf_matrix_svm)\n",
    "# Create a DataFrame for the metrics\n",
    "metrics_df = pd.DataFrame({\n",
    "'Model': ['Logistic Regression', 'Random Forest', 'SVM'],\n",
    "'Accuracy': [accuracy_logistic, accuracy_rf, accuracy_svm],\n",
    "'F1 Score': [f1_logistic, f1_rf, f1_svm]\n",
    "})\n",
    "# Create a bar plot using Matplotlib\n",
    "models = ['Logistic Regression', 'Random Forest', 'SVM']\n",
    "accuracies = [accuracy_logistic, accuracy_rf, accuracy_svm]\n",
    "plt.figure(figsize=(12, 6))\n",
    "plt.barh(models, accuracies, color='skyblue')\n",
    "plt.xlabel('Accuracy')\n",
    "plt.ylabel('Model')\n",
    "plt.title('Model Accuracy Comparison')\n",
    "plt.xlim(0, 1)\n",
    "plt.show()"
   ]
  },
  {
   "cell_type": "code",
   "execution_count": 5,
   "id": "a3183419-85a8-4d70-bf67-3e027fd907a1",
   "metadata": {},
   "outputs": [
    {
     "data": {
      "image/png": "[encoded data removed]",
      "text/plain": [
       "<Figure size 1000x800 with 2 Axes>"
      ]
     },
     "metadata": {},
     "output_type": "display_data"
    }
   ],
   "source": [
    "selected_columns = ['Age', 'Average Glucose Level', 'Body Mass Index (BMI)', 'Systolic Blood Pressure', 'HDL Cholesterol']\n",
    "correlation_matrix = df[selected_columns].corr()\n",
    "plt.figure(figsize=(10, 8))\n",
    "sns.heatmap(correlation_matrix, annot=True, cmap='coolwarm',\n",
    "fmt=\".2f\")\n",
    "plt.title(f'Heatmap of Correlations - StudentID: angort8476 - 4/27/2024')\n",
    "plt.show()"
   ]
  }
 ],
 "metadata": {
  "kernelspec": {
   "display_name": "Python 3 (ipykernel)",
   "language": "python",
   "name": "python3"
  },
  "language_info": {
   "codemirror_mode": {
    "name": "ipython",
    "version": 3
   },
   "file_extension": ".py",
   "mimetype": "text/x-python",
   "name": "python",
   "nbconvert_exporter": "python",
   "pygments_lexer": "ipython3",
   "version": "3.11.4"
  }
 },
 "nbformat": 4,
 "nbformat_minor": 5
}
